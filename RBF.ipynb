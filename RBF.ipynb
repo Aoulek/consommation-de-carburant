{
 "cells": [
  {
   "cell_type": "code",
   "execution_count": 15,
   "id": "52f66027",
   "metadata": {},
   "outputs": [],
   "source": [
    "# Charger les données à partir du fichier CSV\n",
    "import pandas as pd\n",
    "\n",
    "url = \"c:/users/hp/downloads/position (2).csv\"\n",
    "data = pd.read_csv(url, header=None)"
   ]
  },
  {
   "cell_type": "code",
   "execution_count": 4,
   "id": "fdc4c71b",
   "metadata": {},
   "outputs": [],
   "source": [
    "# Séparer les entrées (X) des sorties (y)\n",
    "X = data.iloc[:, :-1]\n",
    "y = data.iloc[:, -1]\n"
   ]
  },
  {
   "cell_type": "code",
   "execution_count": 5,
   "id": "589f12cb",
   "metadata": {},
   "outputs": [],
   "source": [
    "from sklearn.model_selection import train_test_split\n",
    "# Diviser les données en ensembles d'entraînement et de test\n",
    "X_train, X_test, y_train, y_test = train_test_split(X, y, test_size=0.2, random_state=42)\n"
   ]
  },
  {
   "cell_type": "code",
   "execution_count": 7,
   "id": "0765b99f",
   "metadata": {},
   "outputs": [
    {
     "name": "stdout",
     "output_type": "stream",
     "text": [
      "(7, 0)\n",
      "(2, 0)\n"
     ]
    }
   ],
   "source": [
    "print(X_train.shape)\n",
    "print(X_test.shape)\n"
   ]
  },
  {
   "cell_type": "code",
   "execution_count": 17,
   "id": "2ea696b2",
   "metadata": {},
   "outputs": [
    {
     "ename": "ValueError",
     "evalue": "at least one array or dtype is required",
     "output_type": "error",
     "traceback": [
      "\u001b[1;31m---------------------------------------------------------------------------\u001b[0m",
      "\u001b[1;31mValueError\u001b[0m                                Traceback (most recent call last)",
      "\u001b[1;32m~\\AppData\\Local\\Temp\\ipykernel_15084\\1794940366.py\u001b[0m in \u001b[0;36m<module>\u001b[1;34m\u001b[0m\n\u001b[0;32m      3\u001b[0m \u001b[1;33m\u001b[0m\u001b[0m\n\u001b[0;32m      4\u001b[0m \u001b[1;31m# Entraîner le modèle sur les données d'entraînement\u001b[0m\u001b[1;33m\u001b[0m\u001b[1;33m\u001b[0m\u001b[0m\n\u001b[1;32m----> 5\u001b[1;33m \u001b[0mmlp\u001b[0m\u001b[1;33m.\u001b[0m\u001b[0mfit\u001b[0m\u001b[1;33m(\u001b[0m\u001b[0mX_train\u001b[0m\u001b[1;33m,\u001b[0m \u001b[0my_train\u001b[0m\u001b[1;33m)\u001b[0m\u001b[1;33m\u001b[0m\u001b[1;33m\u001b[0m\u001b[0m\n\u001b[0m\u001b[0;32m      6\u001b[0m \u001b[1;33m\u001b[0m\u001b[0m\n\u001b[0;32m      7\u001b[0m \u001b[1;31m# Prédire les sorties pour les données de test\u001b[0m\u001b[1;33m\u001b[0m\u001b[1;33m\u001b[0m\u001b[0m\n",
      "\u001b[1;32mC:\\ProgramData\\Anaconda3\\lib\\site-packages\\sklearn\\neural_network\\_multilayer_perceptron.py\u001b[0m in \u001b[0;36mfit\u001b[1;34m(self, X, y)\u001b[0m\n\u001b[0;32m    750\u001b[0m             \u001b[0mReturns\u001b[0m \u001b[0ma\u001b[0m \u001b[0mtrained\u001b[0m \u001b[0mMLP\u001b[0m \u001b[0mmodel\u001b[0m\u001b[1;33m.\u001b[0m\u001b[1;33m\u001b[0m\u001b[1;33m\u001b[0m\u001b[0m\n\u001b[0;32m    751\u001b[0m         \"\"\"\n\u001b[1;32m--> 752\u001b[1;33m         \u001b[1;32mreturn\u001b[0m \u001b[0mself\u001b[0m\u001b[1;33m.\u001b[0m\u001b[0m_fit\u001b[0m\u001b[1;33m(\u001b[0m\u001b[0mX\u001b[0m\u001b[1;33m,\u001b[0m \u001b[0my\u001b[0m\u001b[1;33m,\u001b[0m \u001b[0mincremental\u001b[0m\u001b[1;33m=\u001b[0m\u001b[1;32mFalse\u001b[0m\u001b[1;33m)\u001b[0m\u001b[1;33m\u001b[0m\u001b[1;33m\u001b[0m\u001b[0m\n\u001b[0m\u001b[0;32m    753\u001b[0m \u001b[1;33m\u001b[0m\u001b[0m\n\u001b[0;32m    754\u001b[0m     \u001b[1;32mdef\u001b[0m \u001b[0m_check_solver\u001b[0m\u001b[1;33m(\u001b[0m\u001b[0mself\u001b[0m\u001b[1;33m)\u001b[0m\u001b[1;33m:\u001b[0m\u001b[1;33m\u001b[0m\u001b[1;33m\u001b[0m\u001b[0m\n",
      "\u001b[1;32mC:\\ProgramData\\Anaconda3\\lib\\site-packages\\sklearn\\neural_network\\_multilayer_perceptron.py\u001b[0m in \u001b[0;36m_fit\u001b[1;34m(self, X, y, incremental)\u001b[0m\n\u001b[0;32m    391\u001b[0m         )\n\u001b[0;32m    392\u001b[0m \u001b[1;33m\u001b[0m\u001b[0m\n\u001b[1;32m--> 393\u001b[1;33m         \u001b[0mX\u001b[0m\u001b[1;33m,\u001b[0m \u001b[0my\u001b[0m \u001b[1;33m=\u001b[0m \u001b[0mself\u001b[0m\u001b[1;33m.\u001b[0m\u001b[0m_validate_input\u001b[0m\u001b[1;33m(\u001b[0m\u001b[0mX\u001b[0m\u001b[1;33m,\u001b[0m \u001b[0my\u001b[0m\u001b[1;33m,\u001b[0m \u001b[0mincremental\u001b[0m\u001b[1;33m,\u001b[0m \u001b[0mreset\u001b[0m\u001b[1;33m=\u001b[0m\u001b[0mfirst_pass\u001b[0m\u001b[1;33m)\u001b[0m\u001b[1;33m\u001b[0m\u001b[1;33m\u001b[0m\u001b[0m\n\u001b[0m\u001b[0;32m    394\u001b[0m \u001b[1;33m\u001b[0m\u001b[0m\n\u001b[0;32m    395\u001b[0m         \u001b[0mn_samples\u001b[0m\u001b[1;33m,\u001b[0m \u001b[0mn_features\u001b[0m \u001b[1;33m=\u001b[0m \u001b[0mX\u001b[0m\u001b[1;33m.\u001b[0m\u001b[0mshape\u001b[0m\u001b[1;33m\u001b[0m\u001b[1;33m\u001b[0m\u001b[0m\n",
      "\u001b[1;32mC:\\ProgramData\\Anaconda3\\lib\\site-packages\\sklearn\\neural_network\\_multilayer_perceptron.py\u001b[0m in \u001b[0;36m_validate_input\u001b[1;34m(self, X, y, incremental, reset)\u001b[0m\n\u001b[0;32m   1098\u001b[0m \u001b[1;33m\u001b[0m\u001b[0m\n\u001b[0;32m   1099\u001b[0m     \u001b[1;32mdef\u001b[0m \u001b[0m_validate_input\u001b[0m\u001b[1;33m(\u001b[0m\u001b[0mself\u001b[0m\u001b[1;33m,\u001b[0m \u001b[0mX\u001b[0m\u001b[1;33m,\u001b[0m \u001b[0my\u001b[0m\u001b[1;33m,\u001b[0m \u001b[0mincremental\u001b[0m\u001b[1;33m,\u001b[0m \u001b[0mreset\u001b[0m\u001b[1;33m)\u001b[0m\u001b[1;33m:\u001b[0m\u001b[1;33m\u001b[0m\u001b[1;33m\u001b[0m\u001b[0m\n\u001b[1;32m-> 1100\u001b[1;33m         X, y = self._validate_data(\n\u001b[0m\u001b[0;32m   1101\u001b[0m             \u001b[0mX\u001b[0m\u001b[1;33m,\u001b[0m\u001b[1;33m\u001b[0m\u001b[1;33m\u001b[0m\u001b[0m\n\u001b[0;32m   1102\u001b[0m             \u001b[0my\u001b[0m\u001b[1;33m,\u001b[0m\u001b[1;33m\u001b[0m\u001b[1;33m\u001b[0m\u001b[0m\n",
      "\u001b[1;32mC:\\ProgramData\\Anaconda3\\lib\\site-packages\\sklearn\\base.py\u001b[0m in \u001b[0;36m_validate_data\u001b[1;34m(self, X, y, reset, validate_separately, **check_params)\u001b[0m\n\u001b[0;32m    579\u001b[0m                 \u001b[0my\u001b[0m \u001b[1;33m=\u001b[0m \u001b[0mcheck_array\u001b[0m\u001b[1;33m(\u001b[0m\u001b[0my\u001b[0m\u001b[1;33m,\u001b[0m \u001b[1;33m**\u001b[0m\u001b[0mcheck_y_params\u001b[0m\u001b[1;33m)\u001b[0m\u001b[1;33m\u001b[0m\u001b[1;33m\u001b[0m\u001b[0m\n\u001b[0;32m    580\u001b[0m             \u001b[1;32melse\u001b[0m\u001b[1;33m:\u001b[0m\u001b[1;33m\u001b[0m\u001b[1;33m\u001b[0m\u001b[0m\n\u001b[1;32m--> 581\u001b[1;33m                 \u001b[0mX\u001b[0m\u001b[1;33m,\u001b[0m \u001b[0my\u001b[0m \u001b[1;33m=\u001b[0m \u001b[0mcheck_X_y\u001b[0m\u001b[1;33m(\u001b[0m\u001b[0mX\u001b[0m\u001b[1;33m,\u001b[0m \u001b[0my\u001b[0m\u001b[1;33m,\u001b[0m \u001b[1;33m**\u001b[0m\u001b[0mcheck_params\u001b[0m\u001b[1;33m)\u001b[0m\u001b[1;33m\u001b[0m\u001b[1;33m\u001b[0m\u001b[0m\n\u001b[0m\u001b[0;32m    582\u001b[0m             \u001b[0mout\u001b[0m \u001b[1;33m=\u001b[0m \u001b[0mX\u001b[0m\u001b[1;33m,\u001b[0m \u001b[0my\u001b[0m\u001b[1;33m\u001b[0m\u001b[1;33m\u001b[0m\u001b[0m\n\u001b[0;32m    583\u001b[0m \u001b[1;33m\u001b[0m\u001b[0m\n",
      "\u001b[1;32mC:\\ProgramData\\Anaconda3\\lib\\site-packages\\sklearn\\utils\\validation.py\u001b[0m in \u001b[0;36mcheck_X_y\u001b[1;34m(X, y, accept_sparse, accept_large_sparse, dtype, order, copy, force_all_finite, ensure_2d, allow_nd, multi_output, ensure_min_samples, ensure_min_features, y_numeric, estimator)\u001b[0m\n\u001b[0;32m    962\u001b[0m         \u001b[1;32mraise\u001b[0m \u001b[0mValueError\u001b[0m\u001b[1;33m(\u001b[0m\u001b[1;34m\"y cannot be None\"\u001b[0m\u001b[1;33m)\u001b[0m\u001b[1;33m\u001b[0m\u001b[1;33m\u001b[0m\u001b[0m\n\u001b[0;32m    963\u001b[0m \u001b[1;33m\u001b[0m\u001b[0m\n\u001b[1;32m--> 964\u001b[1;33m     X = check_array(\n\u001b[0m\u001b[0;32m    965\u001b[0m         \u001b[0mX\u001b[0m\u001b[1;33m,\u001b[0m\u001b[1;33m\u001b[0m\u001b[1;33m\u001b[0m\u001b[0m\n\u001b[0;32m    966\u001b[0m         \u001b[0maccept_sparse\u001b[0m\u001b[1;33m=\u001b[0m\u001b[0maccept_sparse\u001b[0m\u001b[1;33m,\u001b[0m\u001b[1;33m\u001b[0m\u001b[1;33m\u001b[0m\u001b[0m\n",
      "\u001b[1;32mC:\\ProgramData\\Anaconda3\\lib\\site-packages\\sklearn\\utils\\validation.py\u001b[0m in \u001b[0;36mcheck_array\u001b[1;34m(array, accept_sparse, accept_large_sparse, dtype, order, copy, force_all_finite, ensure_2d, allow_nd, ensure_min_samples, ensure_min_features, estimator)\u001b[0m\n\u001b[0;32m    663\u001b[0m \u001b[1;33m\u001b[0m\u001b[0m\n\u001b[0;32m    664\u001b[0m         \u001b[1;32mif\u001b[0m \u001b[0mall\u001b[0m\u001b[1;33m(\u001b[0m\u001b[0misinstance\u001b[0m\u001b[1;33m(\u001b[0m\u001b[0mdtype\u001b[0m\u001b[1;33m,\u001b[0m \u001b[0mnp\u001b[0m\u001b[1;33m.\u001b[0m\u001b[0mdtype\u001b[0m\u001b[1;33m)\u001b[0m \u001b[1;32mfor\u001b[0m \u001b[0mdtype\u001b[0m \u001b[1;32min\u001b[0m \u001b[0mdtypes_orig\u001b[0m\u001b[1;33m)\u001b[0m\u001b[1;33m:\u001b[0m\u001b[1;33m\u001b[0m\u001b[1;33m\u001b[0m\u001b[0m\n\u001b[1;32m--> 665\u001b[1;33m             \u001b[0mdtype_orig\u001b[0m \u001b[1;33m=\u001b[0m \u001b[0mnp\u001b[0m\u001b[1;33m.\u001b[0m\u001b[0mresult_type\u001b[0m\u001b[1;33m(\u001b[0m\u001b[1;33m*\u001b[0m\u001b[0mdtypes_orig\u001b[0m\u001b[1;33m)\u001b[0m\u001b[1;33m\u001b[0m\u001b[1;33m\u001b[0m\u001b[0m\n\u001b[0m\u001b[0;32m    666\u001b[0m \u001b[1;33m\u001b[0m\u001b[0m\n\u001b[0;32m    667\u001b[0m     \u001b[1;32mif\u001b[0m \u001b[0mdtype_numeric\u001b[0m\u001b[1;33m:\u001b[0m\u001b[1;33m\u001b[0m\u001b[1;33m\u001b[0m\u001b[0m\n",
      "\u001b[1;32m<__array_function__ internals>\u001b[0m in \u001b[0;36mresult_type\u001b[1;34m(*args, **kwargs)\u001b[0m\n",
      "\u001b[1;31mValueError\u001b[0m: at least one array or dtype is required"
     ]
    }
   ],
   "source": [
    "from sklearn.neural_network import MLPClassifier\n",
    "mlp = MLPClassifier(hidden_layer_sizes=(10, 10, 10), max_iter=1000)\n",
    "\n",
    "# Entraîner le modèle sur les données d'entraînement\n",
    "mlp.fit(X_train, y_train)\n",
    "\n",
    "# Prédire les sorties pour les données de test\n",
    "y_pred = mlp.predict(X_test)\n",
    "\n",
    "# Évaluer la performance du modèle\n",
    "score = mlp.score(X_test, y_test)\n",
    "print(\"Précision :\", score)"
   ]
  },
  {
   "cell_type": "code",
   "execution_count": 18,
   "id": "6fd53736",
   "metadata": {},
   "outputs": [],
   "source": [
    "def computer_move(trained_model, new_game_state):\n",
    "    # Prédire la prochaine étape en utilisant le modèle entraîné\n",
    "    prediction = trained_model.predict(new_game_state)\n",
    "    # Trouver l'index de la case vide dans la situation de jeu actuelle\n",
    "    empty_index = np.where(new_game_state == \" \")\n",
    "    # Choisir la case à jouer en utilisant la prédiction\n",
    "    chosen_index = empty_index[prediction]\n",
    "    return chosen_index"
   ]
  },
  {
   "cell_type": "code",
   "execution_count": null,
   "id": "bf7b7a3e",
   "metadata": {},
   "outputs": [
    {
     "name": "stdout",
     "output_type": "stream",
     "text": [
      "Welcome to Tic Tac Toe !\n",
      "'X' is your key and 'O' is computer's key in case you play against computer.\n",
      "\n",
      "Enter 1 to play against player\n",
      "Enter 2 to play against computer\n"
     ]
    }
   ],
   "source": [
    "import  random\n",
    "board=list()\n",
    "move=1\n",
    "\n",
    "def createboard():\n",
    "    board = list()\n",
    "    for i in range(0, 9):\n",
    "        board.append(' ')\n",
    "    return board\n",
    "\n",
    "def displayBoard(board):\n",
    "    print(board[0]+' | '+board[1]+' | '+board[2])\n",
    "    print('---------')\n",
    "    print(board[3]+' | '+board[4]+' | '+board[5])\n",
    "    print('---------')\n",
    "    print(board[6]+' | '+board[7]+' | '+board[8])\n",
    "\n",
    "def playermove(board,letter,playerno):  #'X' for player\n",
    "    while True:\n",
    "        try:\n",
    "            position=int(input(\"Player \"+str(playerno)+\" input your next move (\"+letter+\") position (1-9) : \"))\n",
    "            if board[position-1]==' ':\n",
    "                board[position-1]=letter\n",
    "                break\n",
    "            else:\n",
    "                print(\"Position already occupied! Try entering again :\")\n",
    "        except:\n",
    "            print(\"Enter a valid move : \")\n",
    "\n",
    "def iswon(board):\n",
    "    if (board[0] == 'X' and board[1] == 'X' and board[2] == 'X') or (board[3] == 'X' and board[4] == 'X' and board[5] == 'X') or (board[6] == 'X' and board[7] == 'X' and board[8] == 'X') or (board[0] == 'X' and board[3] == 'X' and board[6] == 'X') or (board[1] == 'X' and board[4] == 'X' and board[7] == 'X') or (board[2] == 'X' and board[5] == 'X' and board[8] == 'X') or (board[0] == 'X' and board[4] == 'X' and board[8] == 'X') or (board[2] == 'X' and board[4] == 'X' and board[6] == 'X'):\n",
    "        return True\n",
    "\n",
    "    if (board[0] == 'O' and board[1] == 'O' and board[2] == 'O') or (board[3] == 'O' and board[4] == 'O' and board[5] == 'O') or (board[6] == 'O' and board[7] == 'O' and board[8] == 'O') or (board[0] == 'O' and board[3] == 'O' and board[6] == 'O') or (board[1] == 'O' and board[4] == 'O' and board[7] == 'O') or (board[2] == 'O' and board[5] == 'O' and board[8] == 'O') or (board[0] == 'O' and board[4] == 'O' and board[8] == 'O') or (board[2] == 'O' and board[4] == 'O' and board[6] == 'O'):\n",
    "        return True\n",
    "\n",
    "    return False\n",
    "       \n",
    "\n",
    "def isfull(board):\n",
    "    if board.count(' ')>=1:\n",
    "        return False\n",
    "    else:\n",
    "        return True\n",
    "\n",
    "def main():\n",
    "    print(\"Welcome to Tic Tac Toe !\")\n",
    "    print(\"'X' is your key and 'O' is computer's key in case you play against computer.\\n\")\n",
    "    computer_score = 0\n",
    "    player1_score = 0\n",
    "    player2_score = 0\n",
    "    player_score = 0\n",
    "    match_tie=0\n",
    "    ch='y'\n",
    "    while ch.lower() == 'y':\n",
    "        print(\"Enter 1 to play against player\")\n",
    "        print(\"Enter 2 to play against computer\")\n",
    "        option = int(input(\"Enter your choice: \"))\n",
    "        print()\n",
    "        if option == 2:\n",
    "            board=createboard()\n",
    "            while True:\n",
    "                displayBoard(board)\n",
    "                if not isfull(board):\n",
    "                    if not iswon(board):\n",
    "                        playermove(board,'X',1)\n",
    "                        if not iswon(board):\n",
    "                            if not isfull(board):\n",
    "                                computermove(board,'O')\n",
    "                            else:\n",
    "                                match_tie+=1\n",
    "                                print(\"Match Tie !\")\n",
    "                                break\n",
    "                        else:\n",
    "                            player_score=player_score+1\n",
    "                            print(\"You Won... Good Job\")\n",
    "                            break\n",
    "                    else:\n",
    "                        computer_score = computer_score + 1\n",
    "                        print(\"Computer won..... Nice Try!\")\n",
    "                        break\n",
    "                else:\n",
    "                    match_tie += 1\n",
    "                    print(\"Match Tie !\")\n",
    "                    break\n",
    "        elif option == 1:\n",
    "            board=createboard()\n",
    "            while True:\n",
    "                displayBoard(board)\n",
    "                if not isfull(board):\n",
    "                    if not iswon(board):\n",
    "                        playermove(board,'X',1)\n",
    "                        if not iswon(board):\n",
    "                            if not isfull(board):\n",
    "                                displayBoard(board)\n",
    "                                playermove(board,'O',2)\n",
    "                            else:\n",
    "                                match_tie += 1\n",
    "                                print(\"Match Tie !\")\n",
    "                                break\n",
    "                        else:\n",
    "                            player1_score=player1_score+1\n",
    "                            print(\"Player 1 Won... Good Job\")\n",
    "                            break\n",
    "                    else:\n",
    "                        player2_score=player2_score+1\n",
    "                        print(\"Player 2 Won..... Good Job\")\n",
    "                        break\n",
    "                else:\n",
    "                    match_tie += 1\n",
    "                    print(\"Match Tie !\")\n",
    "                    break\n",
    "        else:\n",
    "            print(\"Invalid input: \")\n",
    "        ch=input(\"Want to play again (y/any key) : \")\n",
    "    print()\n",
    "    print(\"Final Scores are : \")\n",
    "    print(\"===================\")\n",
    "    print()\n",
    "    print(\" : Against computer : \")\n",
    "    print(\"----------------------\")\n",
    "    print(\"Computer Score = \"+str(computer_score)+\"         Your Score = \"+str(player_score))\n",
    "    print(\" : Player Against Player : \")\n",
    "    print(\"---------------------------\")\n",
    "    print(\"Player 1 Score = \" + str(player1_score)+\"        Player 2 Score = \" + str(player2_score))\n",
    "    print(\"--------------------\")\n",
    "    print(\"Match Tied = \"+str(match_tie))\n",
    "\n",
    "main()"
   ]
  },
  {
   "cell_type": "code",
   "execution_count": null,
   "id": "515f9455",
   "metadata": {},
   "outputs": [],
   "source": []
  }
 ],
 "metadata": {
  "kernelspec": {
   "display_name": "Python 3",
   "language": "python",
   "name": "python3"
  },
  "language_info": {
   "codemirror_mode": {
    "name": "ipython",
    "version": 3
   },
   "file_extension": ".py",
   "mimetype": "text/x-python",
   "name": "python",
   "nbconvert_exporter": "python",
   "pygments_lexer": "ipython3",
   "version": "3.10.5 (tags/v3.10.5:f377153, Jun  6 2022, 16:14:13) [MSC v.1929 64 bit (AMD64)]"
  },
  "vscode": {
   "interpreter": {
    "hash": "b9ab9d07b6e138cf2e23a3febc582b8ed87f283761555a33a5aa040f766ceaf4"
   }
  }
 },
 "nbformat": 4,
 "nbformat_minor": 5
}
